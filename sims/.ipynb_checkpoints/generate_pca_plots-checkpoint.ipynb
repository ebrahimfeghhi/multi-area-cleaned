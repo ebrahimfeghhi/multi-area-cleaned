{
 "cells": [
  {
   "cell_type": "code",
   "execution_count": 2,
   "id": "8d5c9a09-979f-4eb5-854a-1fdafed9c228",
   "metadata": {},
   "outputs": [
    {
     "name": "stdout",
     "output_type": "stream",
     "text": [
      "The autoreload extension is already loaded. To reload it, use:\n",
      "  %reload_ext autoreload\n"
     ]
    }
   ],
   "source": [
    "%load_ext autoreload\n",
    "%autoreload 2\n",
    "%matplotlib inline\n",
    "import matplotlib\n",
    "matplotlib.rcParams['pdf.fonttype'] = 42\n",
    "matplotlib.rcParams['ps.fonttype'] = 42\n",
    "matplotlib.rcParams['font.family'] = \"sans-serif\"\n",
    "matplotlib.rcParams['font.family'] = \"Arial\"\n",
    "import numpy as np\n",
    "import matplotlib.pyplot as plt\n",
    "from facilities import store_object, retrieve_object\n",
    "from dPCA import dPCA\n",
    "import pdb\n",
    "import os\n",
    "import sys"
   ]
  },
  {
   "cell_type": "code",
   "execution_count": 3,
   "id": "8d37022e-1861-42a1-94d5-39d615bdd9ea",
   "metadata": {},
   "outputs": [],
   "source": [
    "dirpath = '/home3/ebrahim/multi-area-cleaned/'\n",
    "loadpath_data = dirpath + 'sims/revision/exemplar_new/scratch_data/'\n",
    "savepath_figs = dirpath + 'sims/revision/exemplar_new/figs/'\n",
    "savepath = dirpath + 'sims/revision/exemplar_new/scratch_data/'\n",
    "modelpath = dirpath + 'examples/models/cb_analyze_fixed-cb.py'\n",
    "\n",
    "if not os.path.exists(savepath_figs):\n",
    "    os.makedirs(savepath_figs)"
   ]
  },
  {
   "cell_type": "code",
   "execution_count": 4,
   "id": "8b5b596c-91ce-4df0-8afa-966526c8d82c",
   "metadata": {},
   "outputs": [
    {
     "name": "stderr",
     "output_type": "stream",
     "text": [
      "/home3/ebrahim/multi-area-cleaned/pycog/trialRNN.py:15: UserWarning: \n",
      "This call to matplotlib.use() has no effect because the backend has already\n",
      "been chosen; matplotlib.use() must be called *before* pylab, matplotlib.pyplot,\n",
      "or matplotlib.backends is imported for the first time.\n",
      "\n",
      "The backend was *originally* set to 'module://ipykernel.pylab.backend_inline' by the following code:\n",
      "  File \"/home3/ebrahim/anaconda3/envs/multiarea/lib/python2.7/runpy.py\", line 174, in _run_module_as_main\n",
      "    \"__main__\", fname, loader, pkg_name)\n",
      "  File \"/home3/ebrahim/anaconda3/envs/multiarea/lib/python2.7/runpy.py\", line 72, in _run_code\n",
      "    exec code in run_globals\n",
      "  File \"/home3/ebrahim/anaconda3/envs/multiarea/lib/python2.7/site-packages/ipykernel_launcher.py\", line 16, in <module>\n",
      "    app.launch_new_instance()\n",
      "  File \"/home3/ebrahim/anaconda3/envs/multiarea/lib/python2.7/site-packages/traitlets/config/application.py\", line 664, in launch_instance\n",
      "    app.start()\n",
      "  File \"/home3/ebrahim/anaconda3/envs/multiarea/lib/python2.7/site-packages/ipykernel/kernelapp.py\", line 499, in start\n",
      "    self.io_loop.start()\n",
      "  File \"/home3/ebrahim/anaconda3/envs/multiarea/lib/python2.7/site-packages/tornado/ioloop.py\", line 1073, in start\n",
      "    handler_func(fd_obj, events)\n",
      "  File \"/home3/ebrahim/anaconda3/envs/multiarea/lib/python2.7/site-packages/tornado/stack_context.py\", line 300, in null_wrapper\n",
      "    return fn(*args, **kwargs)\n",
      "  File \"/home3/ebrahim/anaconda3/envs/multiarea/lib/python2.7/site-packages/zmq/eventloop/zmqstream.py\", line 456, in _handle_events\n",
      "    self._handle_recv()\n",
      "  File \"/home3/ebrahim/anaconda3/envs/multiarea/lib/python2.7/site-packages/zmq/eventloop/zmqstream.py\", line 486, in _handle_recv\n",
      "    self._run_callback(callback, msg)\n",
      "  File \"/home3/ebrahim/anaconda3/envs/multiarea/lib/python2.7/site-packages/zmq/eventloop/zmqstream.py\", line 438, in _run_callback\n",
      "    callback(*args, **kwargs)\n",
      "  File \"/home3/ebrahim/anaconda3/envs/multiarea/lib/python2.7/site-packages/tornado/stack_context.py\", line 300, in null_wrapper\n",
      "    return fn(*args, **kwargs)\n",
      "  File \"/home3/ebrahim/anaconda3/envs/multiarea/lib/python2.7/site-packages/ipykernel/kernelbase.py\", line 283, in dispatcher\n",
      "    return self.dispatch_shell(stream, msg)\n",
      "  File \"/home3/ebrahim/anaconda3/envs/multiarea/lib/python2.7/site-packages/ipykernel/kernelbase.py\", line 233, in dispatch_shell\n",
      "    handler(stream, idents, msg)\n",
      "  File \"/home3/ebrahim/anaconda3/envs/multiarea/lib/python2.7/site-packages/ipykernel/kernelbase.py\", line 399, in execute_request\n",
      "    user_expressions, allow_stdin)\n",
      "  File \"/home3/ebrahim/anaconda3/envs/multiarea/lib/python2.7/site-packages/ipykernel/ipkernel.py\", line 208, in do_execute\n",
      "    res = shell.run_cell(code, store_history=store_history, silent=silent)\n",
      "  File \"/home3/ebrahim/anaconda3/envs/multiarea/lib/python2.7/site-packages/ipykernel/zmqshell.py\", line 537, in run_cell\n",
      "    return super(ZMQInteractiveShell, self).run_cell(*args, **kwargs)\n",
      "  File \"/home3/ebrahim/anaconda3/envs/multiarea/lib/python2.7/site-packages/IPython/core/interactiveshell.py\", line 2714, in run_cell\n",
      "    interactivity=interactivity, compiler=compiler, result=result)\n",
      "  File \"/home3/ebrahim/anaconda3/envs/multiarea/lib/python2.7/site-packages/IPython/core/interactiveshell.py\", line 2818, in run_ast_nodes\n",
      "    if self.run_code(code, result):\n",
      "  File \"/home3/ebrahim/anaconda3/envs/multiarea/lib/python2.7/site-packages/IPython/core/interactiveshell.py\", line 2878, in run_code\n",
      "    exec(code_obj, self.user_global_ns, self.user_ns)\n",
      "  File \"<ipython-input-2-05627677f1a5>\", line 3, in <module>\n",
      "    get_ipython().magic(u'matplotlib inline')\n",
      "  File \"/home3/ebrahim/anaconda3/envs/multiarea/lib/python2.7/site-packages/IPython/core/interactiveshell.py\", line 2160, in magic\n",
      "    return self.run_line_magic(magic_name, magic_arg_s)\n",
      "  File \"/home3/ebrahim/anaconda3/envs/multiarea/lib/python2.7/site-packages/IPython/core/interactiveshell.py\", line 2081, in run_line_magic\n",
      "    result = fn(*args,**kwargs)\n",
      "  File \"</home3/ebrahim/anaconda3/envs/multiarea/lib/python2.7/site-packages/decorator.pyc:decorator-gen-105>\", line 2, in matplotlib\n",
      "  File \"/home3/ebrahim/anaconda3/envs/multiarea/lib/python2.7/site-packages/IPython/core/magic.py\", line 188, in <lambda>\n",
      "    call = lambda f, *a, **k: f(*a, **k)\n",
      "  File \"/home3/ebrahim/anaconda3/envs/multiarea/lib/python2.7/site-packages/IPython/core/magics/pylab.py\", line 100, in matplotlib\n",
      "    gui, backend = self.shell.enable_matplotlib(args.gui)\n",
      "  File \"/home3/ebrahim/anaconda3/envs/multiarea/lib/python2.7/site-packages/IPython/core/interactiveshell.py\", line 2966, in enable_matplotlib\n",
      "    pt.activate_matplotlib(backend)\n",
      "  File \"/home3/ebrahim/anaconda3/envs/multiarea/lib/python2.7/site-packages/IPython/core/pylabtools.py\", line 315, in activate_matplotlib\n",
      "    matplotlib.pyplot.switch_backend(backend)\n",
      "  File \"/home3/ebrahim/anaconda3/envs/multiarea/lib/python2.7/site-packages/matplotlib/pyplot.py\", line 231, in switch_backend\n",
      "    matplotlib.use(newbackend, warn=False, force=True)\n",
      "  File \"/home3/ebrahim/anaconda3/envs/multiarea/lib/python2.7/site-packages/matplotlib/__init__.py\", line 1422, in use\n",
      "    reload(sys.modules['matplotlib.backends'])\n",
      "  File \"/home3/ebrahim/anaconda3/envs/multiarea/lib/python2.7/site-packages/matplotlib/backends/__init__.py\", line 17, in <module>\n",
      "    line for line in traceback.format_stack()\n",
      "\n",
      "\n",
      "  mpl.use('Agg') # need this when running on server w/o x\n"
     ]
    }
   ],
   "source": [
    "sys.path.append(dirpath)\n",
    "from pycog.trialRNN import Dynamics"
   ]
  },
  {
   "cell_type": "code",
   "execution_count": 5,
   "id": "8389b758-d955-4bf0-b31f-0b9bb7f38784",
   "metadata": {},
   "outputs": [
    {
     "name": "stdout",
     "output_type": "stream",
     "text": [
      "[ pycog.rnn.RNN ] 16500 updates, best error = 0.20798652, spectral radius = 1.84214282\n",
      " Trial 2800/2800: left_right: -1, cond: 11\n",
      "The proportion of NaN RTs is 0.00535714285714\n"
     ]
    },
    {
     "name": "stderr",
     "output_type": "stream",
     "text": [
      "/home3/ebrahim/multi-area-cleaned/pycog/trialRNN.py:1160: RuntimeWarning: Mean of empty slice\n",
      "  psth = np.nanmean(p_mtx, axis=0)\n"
     ]
    },
    {
     "name": "stdout",
     "output_type": "stream",
     "text": [
      "('DATA SHAPE BEFORE REMOVING CI SIGNAL: ', (300, 28, 350))\n",
      "('DATA SHAPE AFTER REMOVING CI SIGNAL: ', (300, 9800))\n"
     ]
    },
    {
     "name": "stderr",
     "output_type": "stream",
     "text": [
      "WARNING (theano.configdefaults): install mkl with `conda install mkl-service`: No module named mkl\n"
     ]
    }
   ],
   "source": [
    "rnnbase = dirpath + 'saved_rnns_server_apr/data/2020-04-10_cb_simple_3areas/'\n",
    "filename_pkl = '2020-04-10_cb_simple_3areas_seed=7.pkl'\n",
    "\n",
    "vin = 0.1 ** 2 #.1 ** 2 #0.2**2\n",
    "var_in = np.array(((0, 0, 0, 0), (0,0,0,0), (0,0,vin,0), (0,0,0,vin)))#0.20**2\n",
    "var_rec = 0.05 ** 2 #.05 ** 2 #0.1**2 #0.05\n",
    "filename = filename_pkl[:-4]\n",
    "\n",
    "idx1 = np.hstack((np.arange(80), np.arange(240, 260)))\n",
    "idx2 = np.hstack((np.arange(80, 160), np.arange(260, 280)))\n",
    "idx3 = np.hstack((np.arange(160, 240), np.arange(280, 300)))\n",
    "partition_pca = [idx1, idx2, idx3]\n",
    "from pycog.trialRNN import Dynamics\n",
    "dyn = Dynamics(rnnbase + filename_pkl, modelpath, rnnparams={'var_in': var_in, 'var_rec': var_rec}, num_trials=100, seed=1, \n",
    "               threshold=0.6, align='cb', partition_pca=partition_pca, onlyCorrect=True, removeCI=True) \n",
    "dyn.dims = np.array([0,1])\n"
   ]
  },
  {
   "cell_type": "code",
   "execution_count": 12,
   "id": "57c38fc0-0fac-4ff9-82f2-0b49d598e1df",
   "metadata": {},
   "outputs": [
    {
     "name": "stdout",
     "output_type": "stream",
     "text": [
      "(100, 9800)\n"
     ]
    }
   ],
   "source": [
    "data = dyn.data\n",
    "\n",
    "def plot_pca_coherence_avg(data, area):\n",
    "    \n",
    "    area_data = data[100*(area-1):100*area, :]\n",
    "    \n",
    "    \n",
    "plot_pca_coherence_avg(data, 1)\n"
   ]
  },
  {
   "cell_type": "code",
   "execution_count": 6,
   "id": "fde81248-9f9f-49d7-8fee-25b7b390ce49",
   "metadata": {},
   "outputs": [],
   "source": [
    "#dyn.plot_neural_traj2d_partition_pub(savepath=savepath_figs, filename=filename + '_PC12_remove_CI.pdf', windowStart=70, windowEnd=100, targ_on_label=False, go_cue_label=False)\n"
   ]
  },
  {
   "cell_type": "code",
   "execution_count": null,
   "id": "8665f4f6-8d6a-4bb8-991f-dc006e432659",
   "metadata": {},
   "outputs": [],
   "source": []
  }
 ],
 "metadata": {
  "kernelspec": {
   "display_name": "multiarea",
   "language": "python",
   "name": "multiarea"
  },
  "language_info": {
   "codemirror_mode": {
    "name": "ipython",
    "version": 2
   },
   "file_extension": ".py",
   "mimetype": "text/x-python",
   "name": "python",
   "nbconvert_exporter": "python",
   "pygments_lexer": "ipython2",
   "version": "2.7.18"
  }
 },
 "nbformat": 4,
 "nbformat_minor": 5
}
